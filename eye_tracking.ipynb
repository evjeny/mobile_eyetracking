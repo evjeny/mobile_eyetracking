{
  "nbformat": 4,
  "nbformat_minor": 0,
  "metadata": {
    "accelerator": "GPU",
    "colab": {
      "name": "eye_tracking.ipynb",
      "provenance": [],
      "collapsed_sections": [],
      "toc_visible": true,
      "machine_shape": "hm"
    },
    "kernelspec": {
      "display_name": "Python 3",
      "language": "python",
      "name": "python3"
    },
    "language_info": {
      "codemirror_mode": {
        "name": "ipython",
        "version": 3
      },
      "file_extension": ".py",
      "mimetype": "text/x-python",
      "name": "python",
      "nbconvert_exporter": "python",
      "pygments_lexer": "ipython3",
      "version": "3.7.4"
    }
  },
  "cells": [
    {
      "cell_type": "code",
      "metadata": {
        "colab_type": "code",
        "id": "NpXPTtX-6gtt",
        "colab": {}
      },
      "source": [
        "import os\n",
        "\n",
        "import numpy as np\n",
        "import pandas as pd\n",
        "\n",
        "from PIL import Image\n",
        "import cv2\n",
        "\n",
        "import matplotlib\n",
        "import matplotlib.pyplot as plt"
      ],
      "execution_count": 0,
      "outputs": []
    },
    {
      "cell_type": "code",
      "metadata": {
        "id": "NcPr7Yo-Ls4w",
        "colab_type": "code",
        "colab": {}
      },
      "source": [
        "!wget https://datasets.d2.mpi-inf.mpg.de/MPIIGaze/MPIIGaze.tar.gz"
      ],
      "execution_count": 0,
      "outputs": []
    },
    {
      "cell_type": "code",
      "metadata": {
        "id": "fmBA_2XJLurT",
        "colab_type": "code",
        "colab": {}
      },
      "source": [
        "!tar xvzf MPIIGaze.tar.gz MPIIGaze"
      ],
      "execution_count": 0,
      "outputs": []
    },
    {
      "cell_type": "code",
      "metadata": {
        "colab_type": "code",
        "id": "TET2zZjM6guU",
        "colab": {}
      },
      "source": [
        "database_path = \"/content/MPIIGaze\""
      ],
      "execution_count": 0,
      "outputs": []
    },
    {
      "cell_type": "code",
      "metadata": {
        "colab_type": "code",
        "id": "jUbE29ZW6gud",
        "colab": {}
      },
      "source": [
        "!ls $database_path/"
      ],
      "execution_count": 0,
      "outputs": []
    },
    {
      "cell_type": "code",
      "metadata": {
        "id": "4ipmqjQ2KSX3",
        "colab_type": "code",
        "colab": {}
      },
      "source": [
        "def load_image_data(patient_name):\n",
        "    global database_path\n",
        "\n",
        "    annotation_path = os.path.join(database_path, \"Annotation Subset\", patient_name + \".txt\")\n",
        "    data_folder = os.path.join(database_path, \"Data\", \"Original\", patient_name)\n",
        "    \n",
        "    annotation = pd.read_csv(annotation_path, sep=\" \", header=None)\n",
        "    \n",
        "    points = np.array(annotation.loc[:, list(range(1, 17))])\n",
        "    \n",
        "    filenames = np.array(annotation.loc[:, [0]]).reshape(-1)\n",
        "    images = [np.array(Image.open(os.path.join(data_folder, filename))) for filename in filenames]\n",
        "    \n",
        "    return images, points"
      ],
      "execution_count": 0,
      "outputs": []
    },
    {
      "cell_type": "code",
      "metadata": {
        "id": "h9fUnETgKSYA",
        "colab_type": "code",
        "colab": {}
      },
      "source": [
        "images, points = load_image_data(\"p00\")"
      ],
      "execution_count": 0,
      "outputs": []
    },
    {
      "cell_type": "code",
      "metadata": {
        "id": "Orjfm0yPKSYH",
        "colab_type": "code",
        "outputId": "4d8e9172-5b60-4c85-c5e3-5b7e0c4deb11",
        "colab": {
          "base_uri": "https://localhost:8080/",
          "height": 240
        }
      },
      "source": [
        "plt.imshow(images[0])\n",
        "colors = [\"r\", \"g\", \"b\", \"magenta\", \"y\", \"cyan\", \"brown\", \"lightcoral\"]\n",
        "for i in range(0, len(points[0]), 2):\n",
        "    x, y = points[0, i:i+2]\n",
        "    plt.scatter([x], [y], c=colors[i//2])"
      ],
      "execution_count": 0,
      "outputs": [
        {
          "output_type": "display_data",
          "data": {
            "image/png": "[encoded data removed]",
            "text/plain": [
              "<Figure size 432x288 with 1 Axes>"
            ]
          },
          "metadata": {
            "tags": [],
            "needs_background": "light"
          }
        }
      ]
    },
    {
      "cell_type": "code",
      "metadata": {
        "id": "5qU03_-vKSYP",
        "colab_type": "code",
        "colab": {}
      },
      "source": [
        "def distance(x1, y1, x2, y2):\n",
        "    return int(((x1 - x2) ** 2 + (y1 - y2) ** 2) ** 0.5)"
      ],
      "execution_count": 0,
      "outputs": []
    },
    {
      "cell_type": "code",
      "metadata": {
        "id": "iktalNZxKSYY",
        "colab_type": "code",
        "outputId": "47e5c743-1a1e-4b22-8e8b-c229ece78d99",
        "colab": {
          "base_uri": "https://localhost:8080/",
          "height": 34
        }
      },
      "source": [
        "distance(0, 0, 0, 1)"
      ],
      "execution_count": 0,
      "outputs": [
        {
          "output_type": "execute_result",
          "data": {
            "text/plain": [
              "1"
            ]
          },
          "metadata": {
            "tags": []
          },
          "execution_count": 10
        }
      ]
    },
    {
      "cell_type": "code",
      "metadata": {
        "id": "fAWodczGKSYe",
        "colab_type": "code",
        "colab": {}
      },
      "source": [
        "image_shape = (16, 32)"
      ],
      "execution_count": 0,
      "outputs": []
    },
    {
      "cell_type": "code",
      "metadata": {
        "id": "LNbJQ24fKSYl",
        "colab_type": "code",
        "colab": {}
      },
      "source": [
        "def handle_eye(image, p1, p2, pupil):\n",
        "    global image_shape\n",
        "\n",
        "    line_len = distance(*p1, *p2)\n",
        "    # x, y -> y, x\n",
        "    p1 = p1[::-1]\n",
        "    p2 = p2[::-1]\n",
        "    pupil = pupil[::-1]\n",
        "    \n",
        "    corner1 = p1 - np.array([line_len//4, 0])\n",
        "    corner2 = p2 + np.array([line_len//4, 0])\n",
        "    \n",
        "    sub_image = image[corner1[0]:corner2[0]+1, corner1[1]:corner2[1]+1]\n",
        "    \n",
        "    pupil_new = pupil - corner1\n",
        "    pupil_new = pupil_new / sub_image.shape[:2]\n",
        "    \n",
        "    sub_image = cv2.resize(sub_image, image_shape[::-1], interpolation=cv2.INTER_AREA)\n",
        "    sub_image = cv2.cvtColor(sub_image, cv2.COLOR_RGB2GRAY)\n",
        "    \n",
        "    return sub_image, pupil_new"
      ],
      "execution_count": 0,
      "outputs": []
    },
    {
      "cell_type": "code",
      "metadata": {
        "id": "dAxmyrh8KSYs",
        "colab_type": "code",
        "colab": {}
      },
      "source": [
        "def image_to_train_data(image, points):\n",
        "    eye_right_p1 = points[0:2]\n",
        "    eye_right_p2 = points[2:4]\n",
        "    eye_right_pupil = points[12:14]\n",
        "    \n",
        "    right_image, right_pupil = handle_eye(image, eye_right_p1, eye_right_p2, eye_right_pupil)\n",
        "    \n",
        "    eye_left_p1 = points[4:6]\n",
        "    eye_left_p2 = points[6:8]\n",
        "    eye_left_pupil = points[14:16]\n",
        "    \n",
        "    left_image, left_pupil = handle_eye(image, eye_left_p1, eye_left_p2, eye_left_pupil)\n",
        "    \n",
        "    return right_image, right_pupil, left_image, left_pupil"
      ],
      "execution_count": 0,
      "outputs": []
    },
    {
      "cell_type": "code",
      "metadata": {
        "id": "OMHBgfdmKSY0",
        "colab_type": "code",
        "colab": {}
      },
      "source": [
        "right_image, right_pupil, left_image, left_pupil = image_to_train_data(images[10], points[10])"
      ],
      "execution_count": 0,
      "outputs": []
    },
    {
      "cell_type": "code",
      "metadata": {
        "id": "pCkDupaFKSY8",
        "colab_type": "code",
        "outputId": "f1ddfc6c-b6bb-4dcc-c0bf-74e505bfcb56",
        "colab": {
          "base_uri": "https://localhost:8080/",
          "height": 232
        }
      },
      "source": [
        "plt.imshow(right_image, cmap=\"gray\")\n",
        "\n",
        "r_p_x = int(right_pupil[1] * image_shape[1])\n",
        "r_p_y = int(right_pupil[0] * image_shape[0])\n",
        "plt.scatter([r_p_x], [r_p_y], c=\"red\")"
      ],
      "execution_count": 0,
      "outputs": [
        {
          "output_type": "execute_result",
          "data": {
            "text/plain": [
              "<matplotlib.collections.PathCollection at 0x7faa5b5edcf8>"
            ]
          },
          "metadata": {
            "tags": []
          },
          "execution_count": 15
        },
        {
          "output_type": "display_data",
          "data": {
            "image/png": "[encoded data removed]",
            "text/plain": [
              "<Figure size 432x288 with 1 Axes>"
            ]
          },
          "metadata": {
            "tags": [],
            "needs_background": "light"
          }
        }
      ]
    },
    {
      "cell_type": "code",
      "metadata": {
        "id": "vgGcjiFfKSZC",
        "colab_type": "code",
        "outputId": "bc4437d2-451c-49f3-deeb-104b89c8e6d1",
        "colab": {
          "base_uri": "https://localhost:8080/",
          "height": 34
        }
      },
      "source": [
        "right_pupil.shape"
      ],
      "execution_count": 0,
      "outputs": [
        {
          "output_type": "execute_result",
          "data": {
            "text/plain": [
              "(2,)"
            ]
          },
          "metadata": {
            "tags": []
          },
          "execution_count": 16
        }
      ]
    },
    {
      "cell_type": "code",
      "metadata": {
        "colab_type": "code",
        "id": "7C8iJ6UZ6gxD",
        "outputId": "3d2d006c-34b2-45c7-fb20-d78a97635111",
        "colab": {
          "base_uri": "https://localhost:8080/",
          "height": 272
        }
      },
      "source": [
        "images_left_conc = []\n",
        "images_right_conc = []\n",
        "pupils_left_conc = []\n",
        "pupils_right_conc = []\n",
        "\n",
        "patients_path = os.path.join(database_path, \"Data\", \"Original\")\n",
        "for patient in os.listdir(patients_path):\n",
        "    print(patient)\n",
        "    images, points = load_image_data(patient)\n",
        "    for i in range(len(images)):\n",
        "        signle_image_data = image_to_train_data(images[i], points[i])\n",
        "\n",
        "        if any(stuff is None for stuff in signle_image_data):\n",
        "            continue\n",
        "        \n",
        "        right_image, right_pupil, left_image, left_pupil = signle_image_data\n",
        "        \n",
        "        if any(right_pupil < 0) or any(left_pupil < 0):\n",
        "            continue\n",
        "        \n",
        "        images_right_conc.append(right_image)\n",
        "        images_left_conc.append(left_image)\n",
        "        pupils_right_conc.append(right_pupil)\n",
        "        pupils_left_conc.append(left_pupil)\n",
        "\n",
        "images_left_conc = np.array(images_left_conc)\n",
        "images_right_conc = np.array(images_right_conc)\n",
        "pupils_left_conc = np.array(pupils_left_conc)\n",
        "pupils_right_conc = np.array(pupils_right_conc)"
      ],
      "execution_count": 0,
      "outputs": [
        {
          "output_type": "stream",
          "text": [
            "p03\n",
            "p05\n",
            "p00\n",
            "p04\n",
            "p07\n",
            "p01\n",
            "p10\n",
            "p09\n",
            "p12\n",
            "p02\n",
            "p08\n",
            "p06\n",
            "p13\n",
            "p11\n",
            "p14\n"
          ],
          "name": "stdout"
        }
      ]
    },
    {
      "cell_type": "code",
      "metadata": {
        "colab_type": "code",
        "id": "Jp0Oquj-8lO2",
        "colab": {}
      },
      "source": [
        "images_left_conc = images_left_conc / 255\n",
        "images_right_conc = images_right_conc / 255"
      ],
      "execution_count": 0,
      "outputs": []
    },
    {
      "cell_type": "code",
      "metadata": {
        "colab_type": "code",
        "id": "GjUXsCp26gxO",
        "outputId": "19941b01-634d-44fe-ebac-bc4c8bab4423",
        "colab": {
          "base_uri": "https://localhost:8080/",
          "height": 34
        }
      },
      "source": [
        "images_left_conc.shape, images_right_conc.shape"
      ],
      "execution_count": 0,
      "outputs": [
        {
          "output_type": "execute_result",
          "data": {
            "text/plain": [
              "((10586, 16, 32), (10586, 16, 32))"
            ]
          },
          "metadata": {
            "tags": []
          },
          "execution_count": 19
        }
      ]
    },
    {
      "cell_type": "code",
      "metadata": {
        "colab_type": "code",
        "id": "jPo6yii98dfj",
        "outputId": "80db1475-6e7f-437b-b3db-46301d33eaf4",
        "colab": {
          "base_uri": "https://localhost:8080/",
          "height": 34
        }
      },
      "source": [
        "images_left_conc.min(), images_left_conc.max()"
      ],
      "execution_count": 0,
      "outputs": [
        {
          "output_type": "execute_result",
          "data": {
            "text/plain": [
              "(0.0, 1.0)"
            ]
          },
          "metadata": {
            "tags": []
          },
          "execution_count": 20
        }
      ]
    },
    {
      "cell_type": "code",
      "metadata": {
        "id": "p_eFl348KSZr",
        "colab_type": "code",
        "outputId": "1486be2a-9a72-4e47-c4e5-94faa3ead3f4",
        "colab": {
          "base_uri": "https://localhost:8080/",
          "height": 34
        }
      },
      "source": [
        "pupils_left_conc.shape"
      ],
      "execution_count": 0,
      "outputs": [
        {
          "output_type": "execute_result",
          "data": {
            "text/plain": [
              "(10586, 2)"
            ]
          },
          "metadata": {
            "tags": []
          },
          "execution_count": 21
        }
      ]
    },
    {
      "cell_type": "code",
      "metadata": {
        "id": "5xICPCRyKSZx",
        "colab_type": "code",
        "colab": {}
      },
      "source": [
        "pupils_conc = np.zeros_like(pupils_left_conc)\n",
        "for i in range(2):\n",
        "    pupils_conc[:, i] = (pupils_left_conc[:, i] + pupils_right_conc[:, i]) / 2"
      ],
      "execution_count": 0,
      "outputs": []
    },
    {
      "cell_type": "code",
      "metadata": {
        "id": "rm4nShlSKSZ3",
        "colab_type": "code",
        "outputId": "82b1e813-62d2-4d40-f7f4-045e36648043",
        "colab": {
          "base_uri": "https://localhost:8080/",
          "height": 34
        }
      },
      "source": [
        "pupils_conc.shape"
      ],
      "execution_count": 0,
      "outputs": [
        {
          "output_type": "execute_result",
          "data": {
            "text/plain": [
              "(10586, 2)"
            ]
          },
          "metadata": {
            "tags": []
          },
          "execution_count": 23
        }
      ]
    },
    {
      "cell_type": "code",
      "metadata": {
        "id": "fDEtTiVUKSZ9",
        "colab_type": "code",
        "outputId": "4d9164f8-ba19-4148-bf94-b85d2f4ede5f",
        "colab": {
          "base_uri": "https://localhost:8080/",
          "height": 34
        }
      },
      "source": [
        "pupils_conc.min(), pupils_conc.max()"
      ],
      "execution_count": 0,
      "outputs": [
        {
          "output_type": "execute_result",
          "data": {
            "text/plain": [
              "(0.0, 0.6895928462709284)"
            ]
          },
          "metadata": {
            "tags": []
          },
          "execution_count": 24
        }
      ]
    },
    {
      "cell_type": "code",
      "metadata": {
        "id": "vkWshcXFKSaD",
        "colab_type": "code",
        "colab": {}
      },
      "source": [
        "viz_pupils = np.zeros(image_shape)\n",
        "for y, x in pupils_conc:\n",
        "    y = int(y * image_shape[0])\n",
        "    x = int(x * image_shape[1])\n",
        "    viz_pupils[y, x] += 1\n",
        "max_val = viz_pupils.max()\n",
        "viz_pupils = viz_pupils / max_val"
      ],
      "execution_count": 0,
      "outputs": []
    },
    {
      "cell_type": "code",
      "metadata": {
        "id": "vog-r17yKSaJ",
        "colab_type": "code",
        "outputId": "bf975f0b-500d-425d-ef8c-9fb7fa736840",
        "colab": {
          "base_uri": "https://localhost:8080/",
          "height": 232
        }
      },
      "source": [
        "plt.imshow(viz_pupils, cmap=\"hot\")"
      ],
      "execution_count": 0,
      "outputs": [
        {
          "output_type": "execute_result",
          "data": {
            "text/plain": [
              "<matplotlib.image.AxesImage at 0x7faa5b253278>"
            ]
          },
          "metadata": {
            "tags": []
          },
          "execution_count": 26
        },
        {
          "output_type": "display_data",
          "data": {
            "image/png": "[encoded data removed]",
            "text/plain": [
              "<Figure size 432x288 with 1 Axes>"
            ]
          },
          "metadata": {
            "tags": [],
            "needs_background": "light"
          }
        }
      ]
    },
    {
      "cell_type": "markdown",
      "metadata": {
        "colab_type": "text",
        "id": "B6wcTKsM6gxU"
      },
      "source": [
        "## preprocessing"
      ]
    },
    {
      "cell_type": "code",
      "metadata": {
        "colab_type": "code",
        "id": "OYerApLY6gxW",
        "colab": {}
      },
      "source": [
        "from sklearn.model_selection import train_test_split\n",
        "\n",
        "import torch\n",
        "from torch.utils.data import DataLoader, TensorDataset"
      ],
      "execution_count": 0,
      "outputs": []
    },
    {
      "cell_type": "code",
      "metadata": {
        "id": "9SFv1NFyKSae",
        "colab_type": "code",
        "colab": {}
      },
      "source": [
        "def make_2eyes_datasets(images_left, images_right, pupils, train_size=0.8):\n",
        "    n, height, width = images_left.shape\n",
        "    \n",
        "    images_left = images_left.reshape(n, 1, height, width)\n",
        "    images_right = images_right.reshape(n, 1, height, width)\n",
        "    \n",
        "    images_left_train, images_left_val, images_right_train, images_right_val, pupils_train, pupils_val = train_test_split(\n",
        "        images_left, images_right, pupils, train_size=train_size\n",
        "    )\n",
        "    \n",
        "    def make_dataset(im_left, im_right, pups):\n",
        "        return TensorDataset(\n",
        "            torch.from_numpy(im_left.astype(np.float32)), torch.from_numpy(im_right.astype(np.float32)), torch.from_numpy(pups.astype(np.float32))\n",
        "        )\n",
        "    \n",
        "    train_dataset = make_dataset(images_left_train, images_right_train, pupils_train)\n",
        "    val_dataset = make_dataset(images_left_val, images_right_val, pupils_val)\n",
        "    \n",
        "    return train_dataset, val_dataset"
      ],
      "execution_count": 0,
      "outputs": []
    },
    {
      "cell_type": "code",
      "metadata": {
        "colab_type": "code",
        "id": "A8ZGINNm6gxi",
        "colab": {}
      },
      "source": [
        "def make_dataloaders(train_dataset, val_dataset, batch_size=256):\n",
        "    train_dataloader = DataLoader(train_dataset, batch_size=batch_size)\n",
        "    val_dataloader = DataLoader(val_dataset, batch_size=batch_size)\n",
        "    \n",
        "    return train_dataloader, val_dataloader"
      ],
      "execution_count": 0,
      "outputs": []
    },
    {
      "cell_type": "code",
      "metadata": {
        "colab_type": "code",
        "id": "Weajc0bpIuiV",
        "colab": {}
      },
      "source": [
        "batch_size = 256"
      ],
      "execution_count": 0,
      "outputs": []
    },
    {
      "cell_type": "code",
      "metadata": {
        "id": "rMjoo4UdKSa1",
        "colab_type": "code",
        "colab": {}
      },
      "source": [
        "eyes_datasets = make_2eyes_datasets(images_left_conc, images_right_conc, pupils_conc)"
      ],
      "execution_count": 0,
      "outputs": []
    },
    {
      "cell_type": "code",
      "metadata": {
        "id": "ja7t56tfKSbP",
        "colab_type": "code",
        "colab": {}
      },
      "source": [
        "eyes_train_loader, eyes_val_loader = make_dataloaders(*eyes_datasets, batch_size=batch_size)"
      ],
      "execution_count": 0,
      "outputs": []
    },
    {
      "cell_type": "markdown",
      "metadata": {
        "colab_type": "text",
        "id": "ROOEmMep6gx3"
      },
      "source": [
        "## model"
      ]
    },
    {
      "cell_type": "code",
      "metadata": {
        "colab_type": "code",
        "id": "m_Orcx-Q6gx4",
        "colab": {}
      },
      "source": [
        "import torch\n",
        "import torch.nn as nn\n",
        "import torch.nn.functional as F"
      ],
      "execution_count": 0,
      "outputs": []
    },
    {
      "cell_type": "code",
      "metadata": {
        "colab_type": "code",
        "id": "QYeaLZIQFnPk",
        "colab": {}
      },
      "source": [
        "import torchvision.models as models"
      ],
      "execution_count": 0,
      "outputs": []
    },
    {
      "cell_type": "code",
      "metadata": {
        "id": "7-lC7nR9KSbi",
        "colab_type": "code",
        "colab": {}
      },
      "source": [
        "def train(model, train_loader, test_loader, epochs, lr, folder=\"gazenet\"):\n",
        "    os.makedirs(folder, exist_ok=True)\n",
        "\n",
        "    optimizer = torch.optim.Adam(model.parameters(), lr=lr)\n",
        "    mse = nn.MSELoss()\n",
        "\n",
        "    for epoch in range(epochs):\n",
        "        running_loss = 0\n",
        "        error_mean = []\n",
        "        error_std = []\n",
        "        for i, (*xs_batch, y_batch) in enumerate(train_loader):\n",
        "            xs_batch = [x_batch.cuda() for x_batch in xs_batch]\n",
        "            y_batch = y_batch.cuda()\n",
        "\n",
        "            optimizer.zero_grad()\n",
        "\n",
        "            y_batch_pred = model(*xs_batch)\n",
        "            loss = mse(y_batch_pred, y_batch)\n",
        "\n",
        "            loss.backward()\n",
        "            optimizer.step()\n",
        "\n",
        "            running_loss += loss.item()\n",
        "\n",
        "            difference = (y_batch - y_batch_pred).detach().cpu().numpy().reshape(-1)\n",
        "            error_mean.append(np.mean(difference))\n",
        "            error_std.append(np.std(difference))\n",
        "\n",
        "        error_mean = np.mean(error_mean)\n",
        "        error_std = np.mean(error_std)\n",
        "\n",
        "        print(f\"Epoch {epoch+1}/{epochs}, train loss: {running_loss}, error mean: {error_mean}, error std: {error_std}\")\n",
        "\n",
        "        running_loss = 0\n",
        "        error_mean = []\n",
        "        error_std = []\n",
        "        for i, (*xs_batch, y_batch) in enumerate(train_loader):\n",
        "            xs_batch = [x_batch.cuda() for x_batch in xs_batch]\n",
        "            y_batch = y_batch.cuda()\n",
        "\n",
        "            y_batch_pred = model(*xs_batch)\n",
        "            loss = mse(y_batch_pred, y_batch)\n",
        "\n",
        "            loss.backward()\n",
        "            running_loss += loss.item()\n",
        "\n",
        "            difference = (y_batch - y_batch_pred).detach().cpu().numpy().reshape(-1)\n",
        "            error_mean.append(np.mean(difference))\n",
        "            error_std.append(np.std(difference))\n",
        "\n",
        "        error_mean = np.mean(error_mean)\n",
        "        error_std = np.mean(error_std)\n",
        "\n",
        "        print(f\"Epoch {epoch+1}/{epochs}, val loss: {running_loss}, error mean: {error_mean}, error std: {error_std}\")\n",
        "\n",
        "        epoch_path = os.path.join(folder, f\"epoch_{epoch+1}.pth\")\n",
        "        torch.save(model.state_dict(), epoch_path)"
      ],
      "execution_count": 0,
      "outputs": []
    },
    {
      "cell_type": "code",
      "metadata": {
        "colab_type": "code",
        "id": "V7JnqJumG8Vs",
        "colab": {}
      },
      "source": [
        "class Reshaper(nn.Module):\n",
        "    def __init__(self, target_shape):\n",
        "        super(Reshaper, self).__init__()\n",
        "        self.target_shape = target_shape\n",
        "    \n",
        "    def forward(self, input):\n",
        "        return torch.reshape(input, (-1, *self.target_shape))"
      ],
      "execution_count": 0,
      "outputs": []
    },
    {
      "cell_type": "code",
      "metadata": {
        "jupyter": {
          "source_hidden": true
        },
        "id": "KnD-_F4zKScL",
        "colab_type": "code",
        "colab": {}
      },
      "source": [
        "class EyesNet(nn.Module):\n",
        "    def __init__(self):\n",
        "        super(EyesNet, self).__init__()\n",
        "        \n",
        "        self.features_left = nn.Sequential(\n",
        "            nn.Conv2d(in_channels=1, out_channels=32, kernel_size=5, stride=2, padding=2),\n",
        "            nn.LeakyReLU(),\n",
        "            nn.Conv2d(in_channels=32, out_channels=64, kernel_size=3, stride=2, padding=1),\n",
        "            nn.LeakyReLU(),\n",
        "            nn.Conv2d(in_channels=64, out_channels=64, kernel_size=3, stride=2, padding=1),\n",
        "            nn.LeakyReLU(),\n",
        "            nn.Conv2d(in_channels=64, out_channels=64, kernel_size=3, stride=2, padding=1),\n",
        "            nn.LeakyReLU(),\n",
        "            nn.Conv2d(in_channels=64, out_channels=64, kernel_size=3, stride=2, padding=1),\n",
        "            nn.LeakyReLU(),\n",
        "            Reshaper([64])\n",
        "        )\n",
        "        self.features_right = nn.Sequential(\n",
        "            nn.Conv2d(in_channels=1, out_channels=32, kernel_size=5, stride=2, padding=2),\n",
        "            nn.LeakyReLU(),\n",
        "            nn.Conv2d(in_channels=32, out_channels=64, kernel_size=3, stride=2, padding=1),\n",
        "            nn.LeakyReLU(),\n",
        "            nn.Conv2d(in_channels=64, out_channels=64, kernel_size=3, stride=2, padding=1),\n",
        "            nn.LeakyReLU(),\n",
        "            nn.Conv2d(in_channels=64, out_channels=64, kernel_size=3, stride=2, padding=1),\n",
        "            nn.LeakyReLU(),\n",
        "            nn.Conv2d(in_channels=64, out_channels=64, kernel_size=3, stride=2, padding=1),\n",
        "            nn.LeakyReLU(),\n",
        "            Reshaper([64])\n",
        "        )\n",
        "        self.fc = nn.Sequential(\n",
        "            nn.Linear(128, 64),\n",
        "            nn.LeakyReLU(),\n",
        "            nn.Linear(64, 16),\n",
        "            nn.LeakyReLU(),\n",
        "            nn.Linear(16, 2),\n",
        "            nn.Sigmoid()\n",
        "        )\n",
        "    \n",
        "    def forward(self, x_left, x_right):\n",
        "        x_left = self.features_left(x_left)\n",
        "        x_right = self.features_right(x_right)\n",
        "        x = torch.cat((x_left, x_right), 1)\n",
        "        x = self.fc(x)\n",
        "        \n",
        "        return x"
      ],
      "execution_count": 0,
      "outputs": []
    },
    {
      "cell_type": "code",
      "metadata": {
        "id": "0oxpaBZgKSca",
        "colab_type": "code",
        "colab": {}
      },
      "source": [
        "for left, right, y in eyes_train_loader:\n",
        "    break"
      ],
      "execution_count": 0,
      "outputs": []
    },
    {
      "cell_type": "code",
      "metadata": {
        "id": "92AjqO9KKScf",
        "colab_type": "code",
        "outputId": "fed68d1b-cd30-4a74-9ed2-21c8aa767120",
        "colab": {
          "base_uri": "https://localhost:8080/",
          "height": 34
        }
      },
      "source": [
        "left.shape"
      ],
      "execution_count": 0,
      "outputs": [
        {
          "output_type": "execute_result",
          "data": {
            "text/plain": [
              "torch.Size([256, 1, 16, 32])"
            ]
          },
          "metadata": {
            "tags": []
          },
          "execution_count": 39
        }
      ]
    },
    {
      "cell_type": "code",
      "metadata": {
        "id": "0XEK3n9VKScl",
        "colab_type": "code",
        "outputId": "efe2d051-3ae4-43bf-cff5-e714d9862db4",
        "colab": {
          "base_uri": "https://localhost:8080/",
          "height": 34
        }
      },
      "source": [
        "right.shape"
      ],
      "execution_count": 0,
      "outputs": [
        {
          "output_type": "execute_result",
          "data": {
            "text/plain": [
              "torch.Size([256, 1, 16, 32])"
            ]
          },
          "metadata": {
            "tags": []
          },
          "execution_count": 40
        }
      ]
    },
    {
      "cell_type": "code",
      "metadata": {
        "id": "Kk3eXE1aKSda",
        "colab_type": "code",
        "colab": {}
      },
      "source": [
        "eyesnet = EyesNet().cuda()"
      ],
      "execution_count": 0,
      "outputs": []
    },
    {
      "cell_type": "code",
      "metadata": {
        "jupyter": {
          "outputs_hidden": true
        },
        "id": "pF_dT6DQKSdh",
        "colab_type": "code",
        "colab": {}
      },
      "source": [
        "train(eyesnet, eyes_train_loader, eyes_val_loader, 300, 1e-3, \"eyes_net\")"
      ],
      "execution_count": 0,
      "outputs": []
    },
    {
      "cell_type": "markdown",
      "metadata": {
        "id": "2yXI0h7eKSdn",
        "colab_type": "text"
      },
      "source": [
        "### EyesNet\n",
        "\n",
        "`299 epochs -> lr = 1e-3`\n",
        "\n",
        "Epoch 299/300, val loss: 0.004163481352406961, error mean: -0.001996406354010105, error std: 0.010547727346420288"
      ]
    },
    {
      "cell_type": "code",
      "metadata": {
        "id": "pgEm7hBfKSd3",
        "colab_type": "code",
        "outputId": "7849eddd-7dc2-488c-f7fe-5556a5ad650d",
        "colab": {
          "base_uri": "https://localhost:8080/",
          "height": 34
        }
      },
      "source": [
        "eyesnet.load_state_dict(torch.load(\"eyes_net/epoch_299.pth\"))"
      ],
      "execution_count": 0,
      "outputs": [
        {
          "output_type": "execute_result",
          "data": {
            "text/plain": [
              "<All keys matched successfully>"
            ]
          },
          "metadata": {
            "tags": []
          },
          "execution_count": 52
        }
      ]
    },
    {
      "cell_type": "code",
      "metadata": {
        "id": "psQeF3G2KSd8",
        "colab_type": "code",
        "colab": {}
      },
      "source": [
        "import random"
      ],
      "execution_count": 0,
      "outputs": []
    },
    {
      "cell_type": "code",
      "metadata": {
        "id": "omGUMIn6KSeC",
        "colab_type": "code",
        "colab": {}
      },
      "source": [
        "def show_output(model, data_loader, batch_num=0, samples=5, grid_shape=(5, 1), figsize=(10, 10)):\n",
        "    for i, (*xs, y) in enumerate(data_loader):\n",
        "        if i == batch_num:\n",
        "            break\n",
        "    xs = [x.cuda() for x in xs]\n",
        "    y_pred = model(*xs).detach().cpu().numpy().reshape(-1, 2)\n",
        "    \n",
        "    xs = [x.detach().cpu().numpy().reshape(-1, 16, 32) for x in xs]\n",
        "    imgs_conc = np.hstack(xs)\n",
        "    y = y.cpu().numpy().reshape(-1, 2)\n",
        "    \n",
        "    indices = random.sample(range(len(y_pred)), samples)\n",
        "    fig, axes = plt.subplots(*grid_shape, figsize=figsize)\n",
        "    for i, index in enumerate(indices):\n",
        "        row = i // grid_shape[1]\n",
        "        column = i % grid_shape[1]\n",
        "        \n",
        "        axes[row, column].imshow(imgs_conc[index])\n",
        "        axes[row, column].scatter([y_pred[index, 1]*32, y_pred[index, 1]*32], [y_pred[index, 0]*16, (y_pred[index, 0]+1)*16], c=\"r\")\n",
        "        axes[row, column].scatter([y[index, 1]*32, y[index, 1]*32], [y[index, 0]*16, (y[index, 0]+1)*16], c=\"g\")"
      ],
      "execution_count": 0,
      "outputs": []
    },
    {
      "cell_type": "code",
      "metadata": {
        "id": "uaAVktUBKSeI",
        "colab_type": "code",
        "outputId": "17891653-d2be-4f49-a227-4412e0fc4369",
        "colab": {
          "base_uri": "https://localhost:8080/",
          "height": 594
        }
      },
      "source": [
        "show_output(eyesnet, eyes_val_loader, 103, 16, (4, 4))"
      ],
      "execution_count": 0,
      "outputs": [
        {
          "output_type": "display_data",
          "data": {
            "image/png": "[encoded data removed]",
            "text/plain": [
              "<Figure size 720x720 with 16 Axes>"
            ]
          },
          "metadata": {
            "tags": [],
            "needs_background": "light"
          }
        }
      ]
    },
    {
      "cell_type": "code",
      "metadata": {
        "id": "Q1pYSKtDKSeO",
        "colab_type": "code",
        "colab": {}
      },
      "source": [
        "def error_distribution(model, data_loader, image_shape=(16, 32), bins=32, digits=2, figsize=(10,10)):\n",
        "    ys_true = []\n",
        "    ys_pred = []\n",
        "    for *xs, y in data_loader:\n",
        "        xs = [x.cuda() for x in xs]\n",
        "        y_pred = model(*xs)\n",
        "        \n",
        "        ys_true.append(y.detach().cpu().numpy())\n",
        "        ys_pred.append(y_pred.detach().cpu().numpy())\n",
        "    ys_true = np.concatenate(ys_true)\n",
        "    ys_pred = np.concatenate(ys_pred)\n",
        "    indices = np.arange(len(ys_true))\n",
        "    \n",
        "    fig, axes = plt.subplots(2, figsize=figsize)\n",
        "    for ax_num in range(2):\n",
        "        ys_true_subset = ys_true[:, ax_num]\n",
        "        ys_pred_subset = ys_pred[:, ax_num]\n",
        "        counts, ranges = np.histogram(ys_true_subset, bins=bins)\n",
        "\n",
        "        errors = []\n",
        "        labels = []\n",
        "        for i in range(len(counts)):\n",
        "            begin, end = ranges[i], ranges[i + 1]\n",
        "            range_indices = indices[(ys_true_subset >= begin) & (ys_true_subset <= end)]\n",
        "\n",
        "            diffs = np.abs(ys_pred_subset[range_indices] - ys_true_subset[range_indices])\n",
        "            label = (begin + end) / 2\n",
        "            if image_shape:\n",
        "                diffs = diffs * image_shape[ax_num]\n",
        "                label = label * image_shape[ax_num]\n",
        "            else:\n",
        "                label = round(label, digits)\n",
        "            errors.append(diffs)\n",
        "            labels.append(str(label)[:2+digits])\n",
        "\n",
        "        axes[ax_num].boxplot(errors, labels=labels)\n",
        "\n",
        "        if image_shape:\n",
        "            y_label = \"difference, px\"\n",
        "            x_label = \"true position, px\"\n",
        "        else:\n",
        "            y_label = \"difference\"\n",
        "            x_label = \"true position\"\n",
        "        axes[ax_num].set_ylabel(y_label)\n",
        "        axes[ax_num].set_xlabel(x_label)\n",
        "        \n",
        "        if ax_num == 0:\n",
        "            title = \"Y\"\n",
        "        else:\n",
        "            title = \"X\"\n",
        "        axes[ax_num].set_title(title)"
      ],
      "execution_count": 0,
      "outputs": []
    },
    {
      "cell_type": "code",
      "metadata": {
        "id": "YeQ3te3xKSeS",
        "colab_type": "code",
        "outputId": "c6a71a4d-2d25-41c1-9769-4bad9420d9cc",
        "colab": {
          "base_uri": "https://localhost:8080/",
          "height": 621
        }
      },
      "source": [
        "error_distribution(eyesnet, eyes_val_loader, figsize=(20, 10))"
      ],
      "execution_count": 0,
      "outputs": [
        {
          "output_type": "display_data",
          "data": {
            "image/png": "[encoded data removed]",
            "text/plain": [
              "<Figure size 1440x720 with 2 Axes>"
            ]
          },
          "metadata": {
            "tags": [],
            "needs_background": "light"
          }
        }
      ]
    },
    {
      "cell_type": "code",
      "metadata": {
        "id": "bwqpTWNIWfxV",
        "colab_type": "code",
        "outputId": "48f5fd06-e95d-44c8-f0f2-a918e2e9a3dc",
        "colab": {
          "base_uri": "https://localhost:8080/",
          "height": 34
        }
      },
      "source": [
        "eyesnet_cpu = EyesNet().cpu()\n",
        "eyesnet_cpu.load_state_dict(torch.load(\"eyes_net/epoch_299.pth\", map_location=\"cpu\"))"
      ],
      "execution_count": 0,
      "outputs": [
        {
          "output_type": "execute_result",
          "data": {
            "text/plain": [
              "<All keys matched successfully>"
            ]
          },
          "metadata": {
            "tags": []
          },
          "execution_count": 104
        }
      ]
    },
    {
      "cell_type": "code",
      "metadata": {
        "id": "aL7dwpu4YnPT",
        "colab_type": "code",
        "colab": {}
      },
      "source": [
        "import time"
      ],
      "execution_count": 0,
      "outputs": []
    },
    {
      "cell_type": "code",
      "metadata": {
        "id": "ik3D1POSYR2-",
        "colab_type": "code",
        "colab": {}
      },
      "source": [
        "def measure_time(model, data_loader, n_batches=5):\n",
        "    begin_time = time.time()\n",
        "\n",
        "    batch_num = 0\n",
        "    n_samples = 0\n",
        "\n",
        "    predicted = []\n",
        "    for *xs, y in data_loader:\n",
        "        xs = [x.cpu() for x in xs]\n",
        "\n",
        "        y_pred = model(*xs)\n",
        "        predicted.append(y_pred.detach().cpu().numpy().reshape(-1))\n",
        "\n",
        "        batch_num += 1\n",
        "        n_samples += len(y)\n",
        "\n",
        "        if batch_num >= n_batches:\n",
        "            break\n",
        "    \n",
        "    end_time = time.time()\n",
        "\n",
        "    time_per_sample = (end_time - begin_time) / n_samples\n",
        "    return time_per_sample"
      ],
      "execution_count": 0,
      "outputs": []
    },
    {
      "cell_type": "code",
      "metadata": {
        "id": "4bB_hIGOThlb",
        "colab_type": "code",
        "colab": {}
      },
      "source": [
        "_, eyes_val_loader_single = make_dataloaders(*eyes_datasets, batch_size=1)"
      ],
      "execution_count": 0,
      "outputs": []
    },
    {
      "cell_type": "code",
      "metadata": {
        "id": "aOKrdvDHZIt2",
        "colab_type": "code",
        "colab": {}
      },
      "source": [
        "tps = measure_time(eyesnet_cpu, eyes_val_loader_single)"
      ],
      "execution_count": 0,
      "outputs": []
    },
    {
      "cell_type": "code",
      "metadata": {
        "id": "IME_tiTUZQ7g",
        "colab_type": "code",
        "outputId": "5ed0836b-90b1-4a80-9619-1dd9f0b22bbc",
        "colab": {
          "base_uri": "https://localhost:8080/",
          "height": 34
        }
      },
      "source": [
        "print(f\"{tps} seconds per sample\")"
      ],
      "execution_count": 0,
      "outputs": [
        {
          "output_type": "stream",
          "text": [
            "0.003347921371459961 seconds per sample\n"
          ],
          "name": "stdout"
        }
      ]
    },
    {
      "cell_type": "markdown",
      "metadata": {
        "id": "G6Z0Bz1SNwC0",
        "colab_type": "text"
      },
      "source": [
        "VGG16-based model"
      ]
    },
    {
      "cell_type": "code",
      "metadata": {
        "id": "hmJqHi_4PYae",
        "colab_type": "code",
        "colab": {}
      },
      "source": [
        "class VGG16Based(nn.Module):\n",
        "    def __init__(self):\n",
        "        super(VGG16Based, self).__init__()\n",
        "        \n",
        "        self.vgg = models.vgg16(pretrained=False)\n",
        "        self.vgg.classifier = nn.Sequential(\n",
        "            nn.Linear(25088, 256),\n",
        "            nn.LeakyReLU(),\n",
        "            nn.Linear(256, 2),\n",
        "            nn.Sigmoid()\n",
        "        )\n",
        "    \n",
        "    def forward(self, x_left, x_right):\n",
        "        x_mid = (x_left + x_right) / 2\n",
        "        x = torch.cat((x_left, x_mid, x_right), dim=1)\n",
        "\n",
        "        x_pad = torch.zeros((x.shape[0], 3, 32, 32))\n",
        "        x_pad[:, :, :16, :] = x\n",
        "\n",
        "        x = self.vgg(x_pad)\n",
        "        \n",
        "        return x"
      ],
      "execution_count": 0,
      "outputs": []
    },
    {
      "cell_type": "code",
      "metadata": {
        "id": "bF2CbARpPDve",
        "colab_type": "code",
        "colab": {}
      },
      "source": [
        "vgg16 = VGG16Based()"
      ],
      "execution_count": 0,
      "outputs": []
    },
    {
      "cell_type": "code",
      "metadata": {
        "id": "SsqcdWWrPEiB",
        "colab_type": "code",
        "colab": {}
      },
      "source": [
        "vgg16_tps = measure_time(vgg16, eyes_val_loader_single)"
      ],
      "execution_count": 0,
      "outputs": []
    },
    {
      "cell_type": "code",
      "metadata": {
        "id": "lDXPKpZDPTp1",
        "colab_type": "code",
        "outputId": "30ad4411-2d6e-45cd-d17f-3492144342e4",
        "colab": {
          "base_uri": "https://localhost:8080/",
          "height": 34
        }
      },
      "source": [
        "print(f\"{vgg16_tps} seconds per sample\")"
      ],
      "execution_count": 0,
      "outputs": [
        {
          "output_type": "stream",
          "text": [
            "0.0201509952545166 seconds per sample\n"
          ],
          "name": "stdout"
        }
      ]
    },
    {
      "cell_type": "code",
      "metadata": {
        "id": "eYLCahmjXsJg",
        "colab_type": "code",
        "colab": {}
      },
      "source": [
        "torch.save(vgg16.state_dict(), \"vgg16.pt\")"
      ],
      "execution_count": 0,
      "outputs": []
    },
    {
      "cell_type": "code",
      "metadata": {
        "id": "C9A3O12rX75u",
        "colab_type": "code",
        "colab": {}
      },
      "source": [
        ""
      ],
      "execution_count": 0,
      "outputs": []
    }
  ]
}